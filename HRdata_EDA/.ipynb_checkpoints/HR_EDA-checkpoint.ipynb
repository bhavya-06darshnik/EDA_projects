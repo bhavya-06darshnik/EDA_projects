{
 "cells": [
  {
   "metadata": {},
   "cell_type": "markdown",
   "source": [
    "In this EDA project we will performing HR Analytics - Employees Engagement Analysis which is present in kaggle platform.In this EDA Project we will analyze and visualize our dataset.\n",
    "\n",
    "The job role of a HR is not that easy as it seems from the outside\n",
    "\n",
    "The HR's have to actively participate in the recruitment process, helping employees with their issues, maintaining positive work environment, analysing the performance and efficiency, and many more\n",
    "\n",
    "Among all the job responsibilites of an HR, evaluating the performance and efficiency of the employees is considered the most difficult task\n",
    "\n",
    "The difficulty level of this task is directly proportional to the no. of employees who work under that particular HR\n",
    "\n",
    "Thus, to deal with this, we have come with an Exploratory Data Analysis (EDA) project\n",
    "\n",
    "Here, we'll be performing different analysis and visualizations using the Employees Enagagment Dataset to obtain some valuable insights"
   ],
   "id": "7f6c9c5daba22cd0"
  },
  {
   "cell_type": "code",
   "id": "initial_id",
   "metadata": {
    "collapsed": true,
    "ExecuteTime": {
     "end_time": "2025-03-01T09:06:54.722779Z",
     "start_time": "2025-03-01T09:06:54.711025Z"
    }
   },
   "source": [
    "import pandas as pd\n",
    "import numpy as np\n",
    "import seaborn as sns\n",
    "import matplotlib.pyplot as plt\n",
    "\n",
    "\n",
    "\n",
    "import warnings\n",
    "warnings.filterwarnings('ignore')"
   ],
   "outputs": [],
   "execution_count": 1
  },
  {
   "metadata": {},
   "cell_type": "code",
   "outputs": [],
   "execution_count": null,
   "source": "",
   "id": "c4ca385e0d6f8d52"
  }
 ],
 "metadata": {
  "kernelspec": {
   "display_name": "Python 3",
   "language": "python",
   "name": "python3"
  },
  "language_info": {
   "codemirror_mode": {
    "name": "ipython",
    "version": 2
   },
   "file_extension": ".py",
   "mimetype": "text/x-python",
   "name": "python",
   "nbconvert_exporter": "python",
   "pygments_lexer": "ipython2",
   "version": "2.7.6"
  }
 },
 "nbformat": 4,
 "nbformat_minor": 5
}
